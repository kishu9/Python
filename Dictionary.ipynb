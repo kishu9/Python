{
 "cells": [
  {
   "cell_type": "markdown",
   "id": "e55e5536",
   "metadata": {},
   "source": [
    "# Creating a dictionary"
   ]
  },
  {
   "cell_type": "code",
   "execution_count": 12,
   "id": "e9339ccc",
   "metadata": {},
   "outputs": [
    {
     "name": "stdout",
     "output_type": "stream",
     "text": [
      "{}\n",
      "{1: 'hello', 2: 'coders'}\n",
      "{'name': 'Programmer', 1: [12, 40, 3]}\n",
      "40\n",
      "{1: '89', 2: 'pot'}\n",
      "{1: 'bye', 2: 'bye'}\n",
      "{}\n"
     ]
    }
   ],
   "source": [
    "# empty dictionary\n",
    "d1 = {}\n",
    "print(d1)\n",
    "# dictionary with integer keys\n",
    "d2 = {1: 'hello', 2: 'coders'}\n",
    "print(d2)\n",
    "# dictionary with mixed keys\n",
    "d3 = {'name': 'Programmer', 1: [12, 40, 3]}\n",
    "print(d3)\n",
    "print(d3[1][1])\n",
    "# using dict()\n",
    "d4 = dict({1:'89', 2:'pot'})\n",
    "print(d4)\n",
    "# from sequence having each item as a pair\n",
    "d5 = dict([(1,'bye'), (2,'bye')])\n",
    "print(d5)\n",
    "d6=dict()\n",
    "print(d6)"
   ]
  },
  {
   "cell_type": "code",
   "execution_count": 2,
   "id": "ae8bab8a",
   "metadata": {},
   "outputs": [
    {
     "name": "stdout",
     "output_type": "stream",
     "text": [
      "['__class__', '__contains__', '__delattr__', '__delitem__', '__dir__', '__doc__', '__eq__', '__format__', '__ge__', '__getattribute__', '__getitem__', '__gt__', '__hash__', '__init__', '__init_subclass__', '__iter__', '__le__', '__len__', '__lt__', '__ne__', '__new__', '__reduce__', '__reduce_ex__', '__repr__', '__reversed__', '__setattr__', '__setitem__', '__sizeof__', '__str__', '__subclasshook__', 'clear', 'copy', 'fromkeys', 'get', 'items', 'keys', 'pop', 'popitem', 'setdefault', 'update', 'values']\n"
     ]
    }
   ],
   "source": [
    " print(dir({}))"
   ]
  },
  {
   "cell_type": "markdown",
   "id": "20f0bcd4",
   "metadata": {},
   "source": [
    "# Accessing the elements"
   ]
  },
  {
   "cell_type": "code",
   "execution_count": 13,
   "id": "8050b57c",
   "metadata": {},
   "outputs": [
    {
     "name": "stdout",
     "output_type": "stream",
     "text": [
      "rakesh\n",
      "21\n",
      "None\n"
     ]
    },
    {
     "ename": "KeyError",
     "evalue": "'address'",
     "output_type": "error",
     "traceback": [
      "\u001b[1;31m---------------------------------------------------------------------------\u001b[0m",
      "\u001b[1;31mKeyError\u001b[0m                                  Traceback (most recent call last)",
      "\u001b[1;32m<ipython-input-13-fdecb019ea67>\u001b[0m in \u001b[0;36m<module>\u001b[1;34m\u001b[0m\n\u001b[0;32m      4\u001b[0m \u001b[0mprint\u001b[0m\u001b[1;33m(\u001b[0m\u001b[0md2\u001b[0m\u001b[1;33m.\u001b[0m\u001b[0mget\u001b[0m\u001b[1;33m(\u001b[0m\u001b[1;34m'address'\u001b[0m\u001b[1;33m)\u001b[0m\u001b[1;33m)\u001b[0m\u001b[1;33m\u001b[0m\u001b[1;33m\u001b[0m\u001b[0m\n\u001b[0;32m      5\u001b[0m \u001b[1;31m# KeyError\u001b[0m\u001b[1;33m\u001b[0m\u001b[1;33m\u001b[0m\u001b[1;33m\u001b[0m\u001b[0m\n\u001b[1;32m----> 6\u001b[1;33m \u001b[0mprint\u001b[0m\u001b[1;33m(\u001b[0m\u001b[0md2\u001b[0m\u001b[1;33m[\u001b[0m\u001b[1;34m'address'\u001b[0m\u001b[1;33m]\u001b[0m\u001b[1;33m)\u001b[0m\u001b[1;33m\u001b[0m\u001b[1;33m\u001b[0m\u001b[0m\n\u001b[0m",
      "\u001b[1;31mKeyError\u001b[0m: 'address'"
     ]
    }
   ],
   "source": [
    "d2 = {'name': 'rakesh', 'age': 21}\n",
    "print(d2['name'])\n",
    "print(d2.get('age'))\n",
    "print(d2.get('address'))\n",
    "# KeyError\n",
    "print(d2['address'])"
   ]
  },
  {
   "cell_type": "markdown",
   "id": "b8e2e0d9",
   "metadata": {},
   "source": [
    "# Adding element & Update element"
   ]
  },
  {
   "cell_type": "code",
   "execution_count": 3,
   "id": "fcadb39f",
   "metadata": {},
   "outputs": [
    {
     "name": "stdout",
     "output_type": "stream",
     "text": [
      "{'name': 'ramu', 'age': 26}\n",
      "{'name': 'ramu', 'age': 27}\n",
      "{'name': 'ramu', 'age': 27, 'address': 'Bhopal'}\n"
     ]
    }
   ],
   "source": [
    "d3 = {'name': 'ramu', 'age': 26}\n",
    "print(d3)\n",
    "# update value\n",
    "d3['age'] = 27\n",
    "print(d3)\n",
    "# add item\n",
    "d3['address'] = 'Bhopal'\n",
    "print(d3)"
   ]
  },
  {
   "cell_type": "markdown",
   "id": "adc87c86",
   "metadata": {},
   "source": [
    "# delete"
   ]
  },
  {
   "cell_type": "code",
   "execution_count": 14,
   "id": "3b5779bd",
   "metadata": {},
   "outputs": [
    {
     "name": "stdout",
     "output_type": "stream",
     "text": [
      "{1: 10, 2: 40, 3: 900, 5: 275}\n",
      "(5, 275)\n",
      "{1: 10, 2: 40, 3: 900}\n",
      "{}\n"
     ]
    },
    {
     "ename": "NameError",
     "evalue": "name 'd4' is not defined",
     "output_type": "error",
     "traceback": [
      "\u001b[1;31m---------------------------------------------------------------------------\u001b[0m",
      "\u001b[1;31mNameError\u001b[0m                                 Traceback (most recent call last)",
      "\u001b[1;32m<ipython-input-14-673a0b02d920>\u001b[0m in \u001b[0;36m<module>\u001b[1;34m\u001b[0m\n\u001b[0;32m      7\u001b[0m \u001b[0mprint\u001b[0m\u001b[1;33m(\u001b[0m\u001b[0md4\u001b[0m\u001b[1;33m)\u001b[0m\u001b[1;33m\u001b[0m\u001b[1;33m\u001b[0m\u001b[0m\n\u001b[0;32m      8\u001b[0m \u001b[1;32mdel\u001b[0m \u001b[0md4\u001b[0m\u001b[1;33m\u001b[0m\u001b[1;33m\u001b[0m\u001b[0m\n\u001b[1;32m----> 9\u001b[1;33m \u001b[0mprint\u001b[0m\u001b[1;33m(\u001b[0m\u001b[0md4\u001b[0m\u001b[1;33m)\u001b[0m\u001b[1;33m\u001b[0m\u001b[1;33m\u001b[0m\u001b[0m\n\u001b[0m",
      "\u001b[1;31mNameError\u001b[0m: name 'd4' is not defined"
     ]
    }
   ],
   "source": [
    "d4 = {1: 10, 2: 40, 3: 900, 4: 16, 5: 275}\n",
    "d4.pop(4)\n",
    "print(d4)\n",
    "print(d4.popitem())\n",
    "print(d4)\n",
    "d4.clear()\n",
    "print(d4)\n",
    "del d4\n",
    "print(d4)"
   ]
  },
  {
   "cell_type": "code",
   "execution_count": 5,
   "id": "4ca573a7",
   "metadata": {},
   "outputs": [
    {
     "name": "stdout",
     "output_type": "stream",
     "text": [
      "<class 'dict'>\n",
      "['__class__', '__contains__', '__delattr__', '__delitem__', '__dir__', '__doc__', '__eq__', '__format__', '__ge__', '__getattribute__', '__getitem__', '__gt__', '__hash__', '__init__', '__init_subclass__', '__iter__', '__le__', '__len__', '__lt__', '__ne__', '__new__', '__reduce__', '__reduce_ex__', '__repr__', '__reversed__', '__setattr__', '__setitem__', '__sizeof__', '__str__', '__subclasshook__', 'clear', 'copy', 'fromkeys', 'get', 'items', 'keys', 'pop', 'popitem', 'setdefault', 'update', 'values']\n"
     ]
    }
   ],
   "source": [
    "d5=dict()\n",
    "print(type(d5))\n",
    "print(dir(d5))"
   ]
  },
  {
   "cell_type": "code",
   "execution_count": 6,
   "id": "708a55ee",
   "metadata": {},
   "outputs": [
    {
     "name": "stdout",
     "output_type": "stream",
     "text": [
      "original  {1: 20, 2: 40}\n",
      "new  {1: 20, 2: 40}\n"
     ]
    }
   ],
   "source": [
    "#copy\n",
    "x={1:20, 2:40}\n",
    "y=x.copy()\n",
    "print(\"original \",x)\n",
    "print(\"new \",y)"
   ]
  },
  {
   "cell_type": "code",
   "execution_count": 7,
   "id": "3ea30e4b",
   "metadata": {},
   "outputs": [
    {
     "name": "stdout",
     "output_type": "stream",
     "text": [
      "{'name': 'rakesh', 'age': 21}\n",
      "{'name': 'rakesh', 'age': 21, 'salary': 0.0}\n"
     ]
    }
   ],
   "source": [
    "#update\n",
    "d = {'name': 'rakesh', 'age': 21}\n",
    "print(d)\n",
    "d7={'salary' : 0.0}\n",
    "d.update(d7)\n",
    "print(d)"
   ]
  },
  {
   "cell_type": "code",
   "execution_count": 9,
   "id": "f518cd2b",
   "metadata": {},
   "outputs": [
    {
     "name": "stdout",
     "output_type": "stream",
     "text": [
      "dict_keys(['name', 'age'])\n",
      "dict_keys(['name', 'age', 'salary'])\n",
      "dict_keys([])\n"
     ]
    }
   ],
   "source": [
    "#keys\n",
    "d6 = {'name': 'rakesh', 'age': 21}\n",
    "k=d6.keys()\n",
    "print(k)\n",
    "d6.update({'salary' : 0.0})\n",
    "print(k)\n",
    "d7=dict()\n",
    "print(d7.keys())"
   ]
  },
  {
   "cell_type": "code",
   "execution_count": 15,
   "id": "23c2cf0f",
   "metadata": {},
   "outputs": [
    {
     "name": "stdout",
     "output_type": "stream",
     "text": [
      "{'name': 'rakesh', 'age': 21, 'address': 'Bhopal', 'salary': 0.0}\n",
      "rakesh\n",
      "21\n",
      "Bhopal\n",
      "0.0\n"
     ]
    }
   ],
   "source": [
    "#using loop\n",
    "d = {'name': 'rakesh', 'age': 21, 'address':'Bhopal', 'salary':0.0}\n",
    "print(d)\n",
    "for x in d:\n",
    "    print(d[x])"
   ]
  },
  {
   "cell_type": "code",
   "execution_count": 3,
   "id": "292e0154",
   "metadata": {},
   "outputs": [
    {
     "name": "stdout",
     "output_type": "stream",
     "text": [
      "color\n",
      "fruit\n",
      "pet\n"
     ]
    }
   ],
   "source": [
    "a_dict = {'color': 'blue', 'fruit': 'apple', 'pet': 'dog'}\n",
    "for key in a_dict:\n",
    "    print(key)"
   ]
  },
  {
   "cell_type": "code",
   "execution_count": 4,
   "id": "f3fead79",
   "metadata": {},
   "outputs": [
    {
     "name": "stdout",
     "output_type": "stream",
     "text": [
      "color -> blue\n",
      "fruit -> apple\n",
      "pet -> dog\n"
     ]
    }
   ],
   "source": [
    "for key in a_dict:\n",
    "    print(key, '->', a_dict[key])"
   ]
  },
  {
   "cell_type": "code",
   "execution_count": 5,
   "id": "af576dff",
   "metadata": {},
   "outputs": [
    {
     "data": {
      "text/plain": [
       "dict_items([('color', 'blue'), ('fruit', 'apple'), ('pet', 'dog')])"
      ]
     },
     "execution_count": 5,
     "metadata": {},
     "output_type": "execute_result"
    }
   ],
   "source": [
    "a_dict = {'color': 'blue', 'fruit': 'apple', 'pet': 'dog'}\n",
    "d_items = a_dict.items()\n",
    "d_items  # Here d_items is a view of items"
   ]
  },
  {
   "cell_type": "code",
   "execution_count": 6,
   "id": "9636c2d3",
   "metadata": {},
   "outputs": [
    {
     "name": "stdout",
     "output_type": "stream",
     "text": [
      "('color', 'blue')\n",
      "('fruit', 'apple')\n",
      "('pet', 'dog')\n"
     ]
    }
   ],
   "source": [
    "for item in a_dict.items():\n",
    "    print(item)"
   ]
  },
  {
   "cell_type": "code",
   "execution_count": 7,
   "id": "33bd257a",
   "metadata": {},
   "outputs": [
    {
     "name": "stdout",
     "output_type": "stream",
     "text": [
      "color -> blue\n",
      "fruit -> apple\n",
      "pet -> dog\n"
     ]
    }
   ],
   "source": [
    "for key, value in a_dict.items():\n",
    "    print(key, '->', value)"
   ]
  },
  {
   "cell_type": "code",
   "execution_count": 8,
   "id": "ab72041d",
   "metadata": {},
   "outputs": [
    {
     "data": {
      "text/plain": [
       "dict_keys(['color', 'fruit', 'pet'])"
      ]
     },
     "execution_count": 8,
     "metadata": {},
     "output_type": "execute_result"
    }
   ],
   "source": [
    "a_dict = {'color': 'blue', 'fruit': 'apple', 'pet': 'dog'}\n",
    "keys = a_dict.keys()\n",
    "keys"
   ]
  },
  {
   "cell_type": "code",
   "execution_count": 9,
   "id": "3bbf4a36",
   "metadata": {},
   "outputs": [
    {
     "name": "stdout",
     "output_type": "stream",
     "text": [
      "color\n",
      "fruit\n",
      "pet\n"
     ]
    }
   ],
   "source": [
    "for key in a_dict.keys():\n",
    "    print(key)"
   ]
  },
  {
   "cell_type": "code",
   "execution_count": 10,
   "id": "bf787343",
   "metadata": {},
   "outputs": [
    {
     "name": "stdout",
     "output_type": "stream",
     "text": [
      "color -> blue\n",
      "fruit -> apple\n",
      "pet -> dog\n"
     ]
    }
   ],
   "source": [
    "for key in a_dict.keys():\n",
    "    print(key, '->', a_dict[key])"
   ]
  },
  {
   "cell_type": "code",
   "execution_count": 11,
   "id": "fd2214e0",
   "metadata": {},
   "outputs": [
    {
     "data": {
      "text/plain": [
       "dict_values(['blue', 'apple', 'dog'])"
      ]
     },
     "execution_count": 11,
     "metadata": {},
     "output_type": "execute_result"
    }
   ],
   "source": [
    "a_dict = {'color': 'blue', 'fruit': 'apple', 'pet': 'dog'}\n",
    "values = a_dict.values()\n",
    "values"
   ]
  },
  {
   "cell_type": "code",
   "execution_count": null,
   "id": "c683afcc",
   "metadata": {},
   "outputs": [],
   "source": [
    "for value in a_dict.values():\n",
    "    print(value)"
   ]
  },
  {
   "cell_type": "markdown",
   "id": "508749f2",
   "metadata": {},
   "source": [
    "# FUNCTIONS"
   ]
  },
  {
   "cell_type": "code",
   "execution_count": 27,
   "id": "c2986a32",
   "metadata": {},
   "outputs": [
    {
     "name": "stdout",
     "output_type": "stream",
     "text": [
      "Hello, Aman. HAPPY CODING!\n",
      "None\n",
      "\n",
      "    in this we are\n",
      "    greeting ram\n",
      "    \n"
     ]
    }
   ],
   "source": [
    "def coders(name):\n",
    "    \"\"\"\n",
    "    in this we are\n",
    "    greeting ram\n",
    "    \"\"\"\n",
    "    print(\"Hello, \" + name + \". HAPPY CODING!\")\n",
    "\n",
    "\n",
    "print(coders(\"Aman\"))\n",
    "print(coders.__doc__)"
   ]
  },
  {
   "cell_type": "code",
   "execution_count": 31,
   "id": "9aa4eb60",
   "metadata": {},
   "outputs": [
    {
     "name": "stdout",
     "output_type": "stream",
     "text": [
      "2\n",
      "10\n"
     ]
    }
   ],
   "source": [
    "#use of return\n",
    "#To print positive numbers.\n",
    "def positive_value(num):\n",
    "    '''This function returns the positivee value of the entered number'''\n",
    "    if num >= 0:\n",
    "        return num\n",
    "    else:\n",
    "        return -num\n",
    "    \n",
    "    \n",
    "print(positive_value(2))\n",
    "print(positive_value(-10))"
   ]
  }
 ],
 "metadata": {
  "kernelspec": {
   "display_name": "Python 3",
   "language": "python",
   "name": "python3"
  },
  "language_info": {
   "codemirror_mode": {
    "name": "ipython",
    "version": 3
   },
   "file_extension": ".py",
   "mimetype": "text/x-python",
   "name": "python",
   "nbconvert_exporter": "python",
   "pygments_lexer": "ipython3",
   "version": "3.8.3"
  }
 },
 "nbformat": 4,
 "nbformat_minor": 5
}
