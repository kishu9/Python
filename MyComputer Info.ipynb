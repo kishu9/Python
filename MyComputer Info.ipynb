{
 "cells": [
  {
   "cell_type": "code",
   "execution_count": 1,
   "id": "c2ef76e9",
   "metadata": {},
   "outputs": [
    {
     "name": "stdout",
     "output_type": "stream",
     "text": [
      "Operating system name:\n",
      "nt\n",
      "Platform name:\n",
      "Windows\n",
      "Platform release:\n",
      "10\n"
     ]
    }
   ],
   "source": [
    "#Write a Python program to find the operating system name, platform and platform release date.\n",
    "import os, platform\n",
    "print(\"Operating system name:\")\n",
    "print(os.name)\n",
    "print(\"Platform name:\")\n",
    "print(platform.system())\n",
    "print(\"Platform release:\")\n",
    "print(platform.release())"
   ]
  },
  {
   "cell_type": "code",
   "execution_count": 2,
   "id": "cc48d47a",
   "metadata": {},
   "outputs": [
    {
     "name": "stdout",
     "output_type": "stream",
     "text": [
      "64\n"
     ]
    }
   ],
   "source": [
    "#Write a Python program to determine if the python shell is executing in 32bit or 64bit mode on operating system.\n",
    "import struct\n",
    "print(struct.calcsize(\"P\") * 8)"
   ]
  },
  {
   "cell_type": "code",
   "execution_count": 3,
   "id": "850b0b95",
   "metadata": {},
   "outputs": [
    {
     "name": "stdout",
     "output_type": "stream",
     "text": [
      "\n",
      "Wed Aug  4 22:46:49 2021\n",
      "\n"
     ]
    }
   ],
   "source": [
    "#Write a Python program to get the system time.\n",
    "#Note : The system time is important for debugging, network information, random number seeds,\n",
    "#or something as simple as program performance.\n",
    "\n",
    "import time\n",
    "print()\n",
    "print(time.ctime())\n",
    "print()"
   ]
  },
  {
   "cell_type": "code",
   "execution_count": 4,
   "id": "518cf227",
   "metadata": {},
   "outputs": [
    {
     "name": "stdout",
     "output_type": "stream",
     "text": [
      "Host name: Harry\n"
     ]
    }
   ],
   "source": [
    "#Write a Python program to get the name of the host on which the routine is running.\n",
    "import socket\n",
    "host_name = socket.gethostname()\n",
    "print(\"Host name:\", host_name)"
   ]
  },
  {
   "cell_type": "code",
   "execution_count": 13,
   "id": "e836b68d",
   "metadata": {},
   "outputs": [
    {
     "name": "stdout",
     "output_type": "stream",
     "text": [
      "\n",
      "The size of abc.txt is : 6399 Bytes\n",
      "\n"
     ]
    }
   ],
   "source": [
    "#Write a Python program to get the size of a file.\n",
    "import os\n",
    "file_size = os.path.getsize(\"hw1.ipynb\")\n",
    "print(\"\\nThe size of abc.txt is :\",file_size,\"Bytes\")\n",
    "print()"
   ]
  },
  {
   "cell_type": "code",
   "execution_count": 14,
   "id": "03ef424e",
   "metadata": {},
   "outputs": [
    {
     "name": "stdout",
     "output_type": "stream",
     "text": [
      "C:\\Users\\hp\\Python Training\\hw1.ipynb\n"
     ]
    }
   ],
   "source": [
    "#Write a Python program to get an absolute file path.\n",
    "import os\n",
    "print(os.path.abspath('hw1.ipynb')) "
   ]
  },
  {
   "cell_type": "code",
   "execution_count": 15,
   "id": "3fade908",
   "metadata": {},
   "outputs": [
    {
     "name": "stdout",
     "output_type": "stream",
     "text": [
      "Last modified: Wed Aug  4 21:53:44 2021\n",
      "Created: Mon Aug  2 22:46:30 2021\n"
     ]
    }
   ],
   "source": [
    "#Write a Python program to get file creation and modification date/times.\n",
    "import os.path, time\n",
    "print(\"Last modified: %s\" % time.ctime(os.path.getmtime(\"hw1.ipynb\")))\n",
    "print(\"Created: %s\" % time.ctime(os.path.getctime(\"hw1.ipynb\")))"
   ]
  },
  {
   "cell_type": "code",
   "execution_count": null,
   "id": "87accdf7",
   "metadata": {},
   "outputs": [],
   "source": []
  }
 ],
 "metadata": {
  "kernelspec": {
   "display_name": "Python 3",
   "language": "python",
   "name": "python3"
  },
  "language_info": {
   "codemirror_mode": {
    "name": "ipython",
    "version": 3
   },
   "file_extension": ".py",
   "mimetype": "text/x-python",
   "name": "python",
   "nbconvert_exporter": "python",
   "pygments_lexer": "ipython3",
   "version": "3.8.3"
  }
 },
 "nbformat": 4,
 "nbformat_minor": 5
}
