{
 "cells": [
  {
   "cell_type": "code",
   "execution_count": 1,
   "id": "77dee53b",
   "metadata": {},
   "outputs": [
    {
     "data": {
      "text/plain": [
       "'Hello'"
      ]
     },
     "execution_count": 1,
     "metadata": {},
     "output_type": "execute_result"
    }
   ],
   "source": [
    "str1 = \"Hello\"\n",
    "str1"
   ]
  },
  {
   "cell_type": "code",
   "execution_count": 2,
   "id": "90e8a64d",
   "metadata": {},
   "outputs": [
    {
     "name": "stdout",
     "output_type": "stream",
     "text": [
      "123456\n",
      "123456\n",
      "<class 'int'>\n",
      "<class 'str'>\n"
     ]
    }
   ],
   "source": [
    "int1 = 123456\n",
    "str2 = str(int1)\n",
    "print(int1)\n",
    "print(str2)\n",
    "print(type(int1))\n",
    "print(type(str2))"
   ]
  },
  {
   "cell_type": "code",
   "execution_count": 3,
   "id": "5ac3f7fa",
   "metadata": {},
   "outputs": [
    {
     "name": "stdout",
     "output_type": "stream",
     "text": [
      "hello how are you all let us start Python\n",
      "hello everyone\n",
      "Hello\n"
     ]
    }
   ],
   "source": [
    "a = \"\"\"hello how are you all let us start Python\"\"\" \n",
    "b = '''hello everyone'''\n",
    "x = \"Hello\"\n",
    "print(a)\n",
    "print(b)\n",
    "print(x)"
   ]
  },
  {
   "cell_type": "code",
   "execution_count": 4,
   "id": "e1bc4c9c",
   "metadata": {},
   "outputs": [
    {
     "data": {
      "text/plain": [
       "str"
      ]
     },
     "execution_count": 4,
     "metadata": {},
     "output_type": "execute_result"
    }
   ],
   "source": [
    "type(x) "
   ]
  },
  {
   "cell_type": "code",
   "execution_count": 5,
   "id": "dc36f8f4",
   "metadata": {},
   "outputs": [
    {
     "name": "stdout",
     "output_type": "stream",
     "text": [
      "['__add__', '__class__', '__contains__', '__delattr__', '__dir__', '__doc__', '__eq__', '__format__', '__ge__', '__getattribute__', '__getitem__', '__getnewargs__', '__gt__', '__hash__', '__init__', '__init_subclass__', '__iter__', '__le__', '__len__', '__lt__', '__mod__', '__mul__', '__ne__', '__new__', '__reduce__', '__reduce_ex__', '__repr__', '__rmod__', '__rmul__', '__setattr__', '__sizeof__', '__str__', '__subclasshook__', 'capitalize', 'casefold', 'center', 'count', 'encode', 'endswith', 'expandtabs', 'find', 'format', 'format_map', 'index', 'isalnum', 'isalpha', 'isascii', 'isdecimal', 'isdigit', 'isidentifier', 'islower', 'isnumeric', 'isprintable', 'isspace', 'istitle', 'isupper', 'join', 'ljust', 'lower', 'lstrip', 'maketrans', 'partition', 'replace', 'rfind', 'rindex', 'rjust', 'rpartition', 'rsplit', 'rstrip', 'split', 'splitlines', 'startswith', 'strip', 'swapcase', 'title', 'translate', 'upper', 'zfill']\n",
      "\n",
      "\n",
      "78\n"
     ]
    }
   ],
   "source": [
    "print(dir(x))\n",
    "print()\n",
    "print()\n",
    "print(len(dir(x)))"
   ]
  },
  {
   "cell_type": "code",
   "execution_count": 6,
   "id": "b81a848c",
   "metadata": {},
   "outputs": [
    {
     "name": "stdout",
     "output_type": "stream",
     "text": [
      "Python is one of the best language, \"tell this to everyone in the class\". \n"
     ]
    }
   ],
   "source": [
    "print('Python is one of the best language, \"tell this to everyone in the class\". ')"
   ]
  },
  {
   "cell_type": "code",
   "execution_count": 7,
   "id": "75fbc704",
   "metadata": {},
   "outputs": [
    {
     "name": "stdout",
     "output_type": "stream",
     "text": [
      "Python is one of the best language, 'tell this to everyone in the class'. \n"
     ]
    }
   ],
   "source": [
    "print(\"Python is one of the best language, 'tell this to everyone in the class'. \")"
   ]
  },
  {
   "cell_type": "code",
   "execution_count": 8,
   "id": "98062acc",
   "metadata": {},
   "outputs": [
    {
     "name": "stdout",
     "output_type": "stream",
     "text": [
      "41\n",
      "5\n"
     ]
    }
   ],
   "source": [
    "print(len(a))\n",
    "print(len(x))"
   ]
  },
  {
   "cell_type": "markdown",
   "id": "6b2f0d3e",
   "metadata": {},
   "source": [
    "STRING SLICING"
   ]
  },
  {
   "cell_type": "code",
   "execution_count": 9,
   "id": "4c2c860f",
   "metadata": {},
   "outputs": [
    {
     "data": {
      "text/plain": [
       "'h'"
      ]
     },
     "execution_count": 9,
     "metadata": {},
     "output_type": "execute_result"
    }
   ],
   "source": [
    "a = \"\"\"hello how are you all let us start Python\"\"\" \n",
    "a[6]"
   ]
  },
  {
   "cell_type": "code",
   "execution_count": 10,
   "id": "7214181e",
   "metadata": {},
   "outputs": [
    {
     "data": {
      "text/plain": [
       "' '"
      ]
     },
     "execution_count": 10,
     "metadata": {},
     "output_type": "execute_result"
    }
   ],
   "source": [
    "a[5]"
   ]
  },
  {
   "cell_type": "code",
   "execution_count": 11,
   "id": "cb5f8402",
   "metadata": {},
   "outputs": [
    {
     "data": {
      "text/plain": [
       "'hello how '"
      ]
     },
     "execution_count": 11,
     "metadata": {},
     "output_type": "execute_result"
    }
   ],
   "source": [
    "a[0:10]"
   ]
  },
  {
   "cell_type": "code",
   "execution_count": 12,
   "id": "fcebc188",
   "metadata": {},
   "outputs": [
    {
     "data": {
      "text/plain": [
       "'hlh eoa'"
      ]
     },
     "execution_count": 12,
     "metadata": {},
     "output_type": "execute_result"
    }
   ],
   "source": [
    "a[0:20:3]"
   ]
  },
  {
   "cell_type": "code",
   "execution_count": 13,
   "id": "a0a18730",
   "metadata": {},
   "outputs": [
    {
     "data": {
      "text/plain": [
       "'l'"
      ]
     },
     "execution_count": 13,
     "metadata": {},
     "output_type": "execute_result"
    }
   ],
   "source": [
    "a[20]"
   ]
  },
  {
   "cell_type": "markdown",
   "id": "9aa39b0d",
   "metadata": {},
   "source": [
    "buildin functions"
   ]
  },
  {
   "cell_type": "code",
   "execution_count": 14,
   "id": "4855746f",
   "metadata": {},
   "outputs": [
    {
     "name": "stdout",
     "output_type": "stream",
     "text": [
      "hello how are you all let us start Python\n",
      "\n",
      "Hello how are you all let us start python\n"
     ]
    }
   ],
   "source": [
    "#capitalize(): Converts the first character to upper case\n",
    "#SYNTAX: string.capitalize()\n",
    "print(a)\n",
    "print()\n",
    "print(a.capitalize())"
   ]
  },
  {
   "cell_type": "code",
   "execution_count": 15,
   "id": "1c4d8496",
   "metadata": {},
   "outputs": [
    {
     "name": "stdout",
     "output_type": "stream",
     "text": [
      "hello how are you all let us start Python\n",
      "3\n",
      "3\n",
      "5\n",
      "1\n",
      "0\n"
     ]
    }
   ],
   "source": [
    "#count(): returns the number of times a specified value appears in the string.\n",
    "#SYNTAX: string.count(value, starting index, ending index)\n",
    "print(a)\n",
    "print(a.count('h'))\n",
    "print(a.count('e', 0, 30))\n",
    "print(a.count('l', 0))\n",
    "print(a.count('h',30))\n",
    "print(a.count('H',0))"
   ]
  },
  {
   "cell_type": "code",
   "execution_count": 16,
   "id": "b1a0e3e6",
   "metadata": {},
   "outputs": [
    {
     "name": "stdout",
     "output_type": "stream",
     "text": [
      "hello how are you all let us start Python\n",
      "0\n",
      "1\n"
     ]
    },
    {
     "ename": "ValueError",
     "evalue": "substring not found",
     "output_type": "error",
     "traceback": [
      "\u001b[1;31m---------------------------------------------------------------------------\u001b[0m",
      "\u001b[1;31mValueError\u001b[0m                                Traceback (most recent call last)",
      "\u001b[1;32m<ipython-input-16-d7df66f42ef9>\u001b[0m in \u001b[0;36m<module>\u001b[1;34m\u001b[0m\n\u001b[0;32m      3\u001b[0m \u001b[0mprint\u001b[0m\u001b[1;33m(\u001b[0m\u001b[0ma\u001b[0m\u001b[1;33m.\u001b[0m\u001b[0mindex\u001b[0m\u001b[1;33m(\u001b[0m\u001b[1;34m'h'\u001b[0m\u001b[1;33m)\u001b[0m\u001b[1;33m)\u001b[0m\u001b[1;33m\u001b[0m\u001b[1;33m\u001b[0m\u001b[0m\n\u001b[0;32m      4\u001b[0m \u001b[0mprint\u001b[0m\u001b[1;33m(\u001b[0m\u001b[0ma\u001b[0m\u001b[1;33m.\u001b[0m\u001b[0mindex\u001b[0m\u001b[1;33m(\u001b[0m\u001b[1;34m'e'\u001b[0m\u001b[1;33m,\u001b[0m\u001b[1;36m0\u001b[0m\u001b[1;33m,\u001b[0m\u001b[1;36m30\u001b[0m\u001b[1;33m)\u001b[0m\u001b[1;33m)\u001b[0m\u001b[1;33m\u001b[0m\u001b[1;33m\u001b[0m\u001b[0m\n\u001b[1;32m----> 5\u001b[1;33m \u001b[0mprint\u001b[0m\u001b[1;33m(\u001b[0m\u001b[0ma\u001b[0m\u001b[1;33m.\u001b[0m\u001b[0mindex\u001b[0m\u001b[1;33m(\u001b[0m\u001b[1;34m'k'\u001b[0m\u001b[1;33m,\u001b[0m\u001b[1;36m2\u001b[0m\u001b[1;33m,\u001b[0m\u001b[1;36m9\u001b[0m\u001b[1;33m)\u001b[0m\u001b[1;33m)\u001b[0m\u001b[1;33m\u001b[0m\u001b[1;33m\u001b[0m\u001b[0m\n\u001b[0m",
      "\u001b[1;31mValueError\u001b[0m: substring not found"
     ]
    }
   ],
   "source": [
    "#string.index(value, start, end)\n",
    "print(a)\n",
    "print(a.index('h'))\n",
    "print(a.index('e',0,30))\n",
    "print(a.index('k',2,9))"
   ]
  },
  {
   "cell_type": "code",
   "execution_count": 17,
   "id": "dc0b74e1",
   "metadata": {},
   "outputs": [
    {
     "name": "stdout",
     "output_type": "stream",
     "text": [
      "-1\n",
      "0\n",
      "1\n"
     ]
    }
   ],
   "source": [
    "#find(): finds the first occurrence of the specified value.  returns -1 if the value is not found.\n",
    "\n",
    "print(a.find('k',2,9))\n",
    "print(a.find('h'))\n",
    "print(a.find('e',0,30))"
   ]
  },
  {
   "cell_type": "code",
   "execution_count": 18,
   "id": "5495e19e",
   "metadata": {},
   "outputs": [
    {
     "name": "stdout",
     "output_type": "stream",
     "text": [
      "hello how are you all let us start Python\n",
      "False\n",
      "\n",
      "hello\n",
      "True\n",
      "\n",
      "1234567890\n",
      "False\n",
      "False\n"
     ]
    }
   ],
   "source": [
    "#Syntax: string.isalpha()\n",
    "print(a)\n",
    "print(a.isalpha())\n",
    "print()\n",
    "z=\"hello\"\n",
    "print(z)\n",
    "print(z.isalpha())\n",
    "print()\n",
    "y=\"1234567890\"\n",
    "print(y)\n",
    "print(y.isalpha())\n",
    "z=\"sjdik1234  jdkifg12#\"\n",
    "print(z.isalpha())"
   ]
  },
  {
   "cell_type": "code",
   "execution_count": 19,
   "id": "478798f5",
   "metadata": {},
   "outputs": [
    {
     "name": "stdout",
     "output_type": "stream",
     "text": [
      "Hello How Are You All Let Us Start Python\n"
     ]
    }
   ],
   "source": [
    "print(a.title())"
   ]
  },
  {
   "cell_type": "code",
   "execution_count": 20,
   "id": "fc6935ac",
   "metadata": {},
   "outputs": [
    {
     "name": "stdout",
     "output_type": "stream",
     "text": [
      "Aahjh Shsnskd\n"
     ]
    }
   ],
   "source": [
    "q=\"aaHJH SHSnskd\"\n",
    "print(q.title())"
   ]
  },
  {
   "cell_type": "code",
   "execution_count": 21,
   "id": "7593ef0e",
   "metadata": {},
   "outputs": [
    {
     "name": "stdout",
     "output_type": "stream",
     "text": [
      "hsd dhd DHFJ AHDahd qqwdHDHJF\n"
     ]
    }
   ],
   "source": [
    "z=\"HSD DHD dhfj ahdAHD QQWDhdhjf\"\n",
    "print(z.swapcase())"
   ]
  },
  {
   "cell_type": "code",
   "execution_count": 22,
   "id": "35639fd3",
   "metadata": {},
   "outputs": [
    {
     "name": "stdout",
     "output_type": "stream",
     "text": [
      "HELLO HOW ARE YOU ALL LET US START pYTHON\n"
     ]
    }
   ],
   "source": [
    "print(a.swapcase())"
   ]
  },
  {
   "cell_type": "code",
   "execution_count": 1,
   "id": "35520ff3",
   "metadata": {},
   "outputs": [
    {
     "ename": "NameError",
     "evalue": "name 'a' is not defined",
     "output_type": "error",
     "traceback": [
      "\u001b[1;31m---------------------------------------------------------------------------\u001b[0m",
      "\u001b[1;31mNameError\u001b[0m                                 Traceback (most recent call last)",
      "\u001b[1;32m<ipython-input-1-d8c3b3ac9d29>\u001b[0m in \u001b[0;36m<module>\u001b[1;34m\u001b[0m\n\u001b[1;32m----> 1\u001b[1;33m \u001b[0mprint\u001b[0m\u001b[1;33m(\u001b[0m\u001b[0ma\u001b[0m\u001b[1;33m)\u001b[0m\u001b[1;33m\u001b[0m\u001b[1;33m\u001b[0m\u001b[0m\n\u001b[0m\u001b[0;32m      2\u001b[0m \u001b[0mprint\u001b[0m\u001b[1;33m(\u001b[0m\u001b[0ma\u001b[0m\u001b[1;33m.\u001b[0m\u001b[0mupper\u001b[0m\u001b[1;33m(\u001b[0m\u001b[1;33m)\u001b[0m\u001b[1;33m)\u001b[0m\u001b[1;33m\u001b[0m\u001b[1;33m\u001b[0m\u001b[0m\n\u001b[0;32m      3\u001b[0m \u001b[0mprint\u001b[0m\u001b[1;33m(\u001b[0m\u001b[0ma\u001b[0m\u001b[1;33m.\u001b[0m\u001b[0misupper\u001b[0m\u001b[1;33m(\u001b[0m\u001b[1;33m)\u001b[0m\u001b[1;33m)\u001b[0m\u001b[1;33m\u001b[0m\u001b[1;33m\u001b[0m\u001b[0m\n",
      "\u001b[1;31mNameError\u001b[0m: name 'a' is not defined"
     ]
    }
   ],
   "source": [
    "print(a)\n",
    "print(a.upper())\n",
    "print(a.isupper())"
   ]
  },
  {
   "cell_type": "code",
   "execution_count": 24,
   "id": "99092bd6",
   "metadata": {},
   "outputs": [
    {
     "name": "stdout",
     "output_type": "stream",
     "text": [
      "hello how are you all let us start python\n",
      "False\n"
     ]
    }
   ],
   "source": [
    "print(a.lower())\n",
    "print(a.islower())"
   ]
  },
  {
   "cell_type": "code",
   "execution_count": 25,
   "id": "2f713f27",
   "metadata": {},
   "outputs": [
    {
     "name": "stdout",
     "output_type": "stream",
     "text": [
      "hello how are you all let us start Python\n"
     ]
    }
   ],
   "source": [
    "print(a)"
   ]
  },
  {
   "cell_type": "code",
   "execution_count": 26,
   "id": "e020542a",
   "metadata": {},
   "outputs": [
    {
     "data": {
      "text/plain": [
       "'nohtyP trats su tel lla uoy era woh olleh'"
      ]
     },
     "execution_count": 26,
     "metadata": {},
     "output_type": "execute_result"
    }
   ],
   "source": [
    "a[::-1]"
   ]
  },
  {
   "cell_type": "code",
   "execution_count": 27,
   "id": "5831bcf9",
   "metadata": {},
   "outputs": [
    {
     "data": {
      "text/plain": [
       "'lo how are you all let us start Python'"
      ]
     },
     "execution_count": 27,
     "metadata": {},
     "output_type": "execute_result"
    }
   ],
   "source": [
    "a[3:]"
   ]
  },
  {
   "cell_type": "code",
   "execution_count": 28,
   "id": "d018c3cc",
   "metadata": {},
   "outputs": [
    {
     "data": {
      "text/plain": [
       "'art Pytho'"
      ]
     },
     "execution_count": 28,
     "metadata": {},
     "output_type": "execute_result"
    }
   ],
   "source": [
    "a[-10:-1]"
   ]
  },
  {
   "cell_type": "code",
   "execution_count": 29,
   "id": "ec5b558c",
   "metadata": {},
   "outputs": [
    {
     "data": {
      "text/plain": [
       "'n'"
      ]
     },
     "execution_count": 29,
     "metadata": {},
     "output_type": "execute_result"
    }
   ],
   "source": [
    "a[40]\n",
    "a[-1]"
   ]
  },
  {
   "cell_type": "code",
   "execution_count": 2,
   "id": "b45d0c54",
   "metadata": {},
   "outputs": [
    {
     "name": "stdout",
     "output_type": "stream",
     "text": [
      "HelloAnchal\n",
      "Hello Anchal\n"
     ]
    }
   ],
   "source": [
    "#to concate string\n",
    "s1=\"Hello\"\n",
    "s2=\"Anchal\"\n",
    "\n",
    "print(s1+s2)\n",
    "print(s1+\" \"+s2)"
   ]
  },
  {
   "cell_type": "code",
   "execution_count": 31,
   "id": "0f6f6d84",
   "metadata": {},
   "outputs": [
    {
     "name": "stdout",
     "output_type": "stream",
     "text": [
      "Hello Anchal\n"
     ]
    }
   ],
   "source": [
    "s1=\"Hello\"\n",
    "s2=\" Anchal\"\n",
    "\n",
    "print(s1+s2)"
   ]
  },
  {
   "cell_type": "code",
   "execution_count": 32,
   "id": "73522e4f",
   "metadata": {},
   "outputs": [
    {
     "name": "stdout",
     "output_type": "stream",
     "text": [
      "True\n",
      "\n",
      "True\n",
      "\n",
      "0x64\n",
      "False\n",
      "\n",
      "False\n",
      "\n",
      "False\n"
     ]
    }
   ],
   "source": [
    "#isdecimal:\n",
    "\"\"\"Return true if all characters in the string are decimal characters and there is at \n",
    "least one character, false otherwise. Decimal characters are those that can be used to form numbers in base 10,\"\"\"\n",
    "s = \"28212\"\n",
    "print(s.isdecimal())\n",
    "\n",
    "print()\n",
    "\n",
    "s = \"1\"\n",
    "print(s.isdecimal())\n",
    "\n",
    "print()\n",
    "\n",
    "s = hex(100)#\"100\"\n",
    "print(s)\n",
    "print(s.isdecimal())\n",
    "\n",
    "print()\n",
    "\n",
    "s = \"32ladk3\"\n",
    "print(s.isdecimal())\n",
    "\n",
    "print()\n",
    "\n",
    "s = \"Mo3 nicaG el l22er\"\n",
    "print(s.isdecimal())"
   ]
  },
  {
   "cell_type": "code",
   "execution_count": 33,
   "id": "ed877cea",
   "metadata": {},
   "outputs": [
    {
     "name": "stdout",
     "output_type": "stream",
     "text": [
      "True\n",
      "True\n",
      "True\n",
      "True\n",
      "True\n"
     ]
    }
   ],
   "source": [
    "#isnumeric:\n",
    "\"\"\"Return true if all characters in the string are numeric characters, and there is at least one character, false otherwise.\n",
    "Numeric characters include digit characters, and all characters that have the Unicode numeric value property.\"\"\"\n",
    "\n",
    "print('½'.isnumeric())\n",
    "\n",
    "print(\"12345\".isnumeric())\n",
    "print(\"½¼\".isnumeric())\n",
    "\n",
    "print(\"12345½\".isnumeric())\n",
    "print(\"1\".isnumeric())"
   ]
  },
  {
   "cell_type": "code",
   "execution_count": 34,
   "id": "f3f406e3",
   "metadata": {},
   "outputs": [
    {
     "name": "stdout",
     "output_type": "stream",
     "text": [
      "True\n",
      "True\n",
      "True\n",
      "False\n",
      "False\n"
     ]
    }
   ],
   "source": [
    "#isdigit()\n",
    "\"\"\"which is used to check whether a string contains only digits or not.\"\"\"\n",
    "\n",
    "print(\"12345\".isdigit())\n",
    "print(\"1233\".isdigit())\n",
    "print(\"3\".isdigit())\n",
    "print(\"shd34545\".isdigit())\n",
    "print('½'.isdigit())"
   ]
  },
  {
   "cell_type": "code",
   "execution_count": 35,
   "id": "da2ab8ca",
   "metadata": {},
   "outputs": [
    {
     "name": "stdout",
     "output_type": "stream",
     "text": [
      "True\n",
      "False\n",
      "True\n",
      "True\n",
      "False\n"
     ]
    }
   ],
   "source": [
    "#isprintable()\n",
    "print(\"Hello\".isprintable())\n",
    "print(\"hello \\n #good night\".isprintable())\n",
    "print(\"Hel1234lo\".isprintable())\n",
    "print(\"Hello /// ???\".isprintable())\n",
    "print(\"Hello \\n || \\r\".isprintable())"
   ]
  },
  {
   "cell_type": "code",
   "execution_count": 36,
   "id": "da652578",
   "metadata": {},
   "outputs": [
    {
     "name": "stdout",
     "output_type": "stream",
     "text": [
      "False\n",
      "True\n"
     ]
    }
   ],
   "source": [
    "#isspace()\n",
    "print(\"ahe wj wjw\".isspace())\n",
    "print(\"   \".isspace())"
   ]
  },
  {
   "cell_type": "code",
   "execution_count": 37,
   "id": "d1c3f788",
   "metadata": {},
   "outputs": [
    {
     "name": "stdout",
     "output_type": "stream",
     "text": [
      "1#2#3#4\n"
     ]
    }
   ],
   "source": [
    "#join:  returns a string in which the elements of sequence have been joined by str separator.\n",
    "list1 = [\"1\",\"2\",\"3\",\"4\"]\n",
    "print('#'.join(list1))"
   ]
  },
  {
   "cell_type": "code",
   "execution_count": 38,
   "id": "2683b07f",
   "metadata": {},
   "outputs": [
    {
     "name": "stdout",
     "output_type": "stream",
     "text": [
      "['Hello', 'class']\n",
      "\n",
      "['hello', 'class', 'python', 'is', 'easy']\n",
      "\n",
      "['hello', 'class', 'python', 'is', 'easy']\n"
     ]
    }
   ],
   "source": [
    "str1=\"Hello class\"\n",
    "print(str1.split())\n",
    "\n",
    "print()\n",
    "\n",
    "str1 = \"hello, class, python, is, easy\"\n",
    "print(str1.split(\", \"))\n",
    "\n",
    "print()\n",
    "\n",
    "str1=\"hello-class-python-is-easy\"\n",
    "print(str1.split(\"-\"))"
   ]
  },
  {
   "cell_type": "code",
   "execution_count": 39,
   "id": "6fbb4903",
   "metadata": {},
   "outputs": [
    {
     "name": "stdout",
     "output_type": "stream",
     "text": [
      "['apple', 'banana', 'cherry#orange#mango#chiku']\n"
     ]
    }
   ],
   "source": [
    "txt = \"apple#banana#cherry#orange#mango#chiku\"\n",
    "\n",
    "# setting the maxsplit parameter to 1, will return a list with 2 elements!\n",
    "x = txt.split(\"#\", 2)\n",
    "\n",
    "print(x)\n"
   ]
  }
 ],
 "metadata": {
  "kernelspec": {
   "display_name": "Python 3",
   "language": "python",
   "name": "python3"
  },
  "language_info": {
   "codemirror_mode": {
    "name": "ipython",
    "version": 3
   },
   "file_extension": ".py",
   "mimetype": "text/x-python",
   "name": "python",
   "nbconvert_exporter": "python",
   "pygments_lexer": "ipython3",
   "version": "3.8.3"
  }
 },
 "nbformat": 4,
 "nbformat_minor": 5
}
