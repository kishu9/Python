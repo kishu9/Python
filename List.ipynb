{
 "cells": [
  {
   "cell_type": "code",
   "execution_count": 12,
   "id": "cbf05de2",
   "metadata": {},
   "outputs": [],
   "source": [
    "list1=[1,2,3]"
   ]
  },
  {
   "cell_type": "code",
   "execution_count": 13,
   "id": "57da567a",
   "metadata": {},
   "outputs": [
    {
     "name": "stdout",
     "output_type": "stream",
     "text": [
      "(1, 2, 3)\n"
     ]
    }
   ],
   "source": [
    "print(tuple(list1))"
   ]
  },
  {
   "cell_type": "code",
   "execution_count": 14,
   "id": "a681b92d",
   "metadata": {},
   "outputs": [],
   "source": [
    "l=(10, 20, 30)"
   ]
  },
  {
   "cell_type": "code",
   "execution_count": 15,
   "id": "cf90b279",
   "metadata": {},
   "outputs": [
    {
     "name": "stdout",
     "output_type": "stream",
     "text": [
      "[10, 20, 30]\n"
     ]
    }
   ],
   "source": [
    "print(list(l))"
   ]
  },
  {
   "cell_type": "code",
   "execution_count": 2,
   "id": "f2bc4734",
   "metadata": {},
   "outputs": [
    {
     "name": "stdout",
     "output_type": "stream",
     "text": [
      "[1, 2, 3, 1.23, 'hello']\n"
     ]
    }
   ],
   "source": [
    "print(list1)"
   ]
  },
  {
   "cell_type": "code",
   "execution_count": 3,
   "id": "3e569523",
   "metadata": {},
   "outputs": [
    {
     "name": "stdout",
     "output_type": "stream",
     "text": [
      "[1, 2, 3, 1.23, 'hello']\n"
     ]
    }
   ],
   "source": [
    "print(list1)"
   ]
  },
  {
   "cell_type": "code",
   "execution_count": 4,
   "id": "30dba7f3",
   "metadata": {},
   "outputs": [
    {
     "data": {
      "text/plain": [
       "[1, 2, 3]"
      ]
     },
     "execution_count": 4,
     "metadata": {},
     "output_type": "execute_result"
    }
   ],
   "source": [
    "list1[0:3]"
   ]
  },
  {
   "cell_type": "code",
   "execution_count": 5,
   "id": "7974dc8a",
   "metadata": {},
   "outputs": [
    {
     "data": {
      "text/plain": [
       "[1.23, 'hello']"
      ]
     },
     "execution_count": 5,
     "metadata": {},
     "output_type": "execute_result"
    }
   ],
   "source": [
    "list1[3:]"
   ]
  },
  {
   "cell_type": "code",
   "execution_count": 6,
   "id": "c63a22e7",
   "metadata": {},
   "outputs": [
    {
     "data": {
      "text/plain": [
       "[2, 3]"
      ]
     },
     "execution_count": 6,
     "metadata": {},
     "output_type": "execute_result"
    }
   ],
   "source": [
    "list1[1:3]"
   ]
  },
  {
   "cell_type": "code",
   "execution_count": 7,
   "id": "f7a1905e",
   "metadata": {},
   "outputs": [
    {
     "data": {
      "text/plain": [
       "'hello'"
      ]
     },
     "execution_count": 7,
     "metadata": {},
     "output_type": "execute_result"
    }
   ],
   "source": [
    "list1[-1]"
   ]
  },
  {
   "cell_type": "code",
   "execution_count": 8,
   "id": "7346691d",
   "metadata": {},
   "outputs": [
    {
     "data": {
      "text/plain": [
       "list"
      ]
     },
     "execution_count": 8,
     "metadata": {},
     "output_type": "execute_result"
    }
   ],
   "source": [
    "type(list1)"
   ]
  },
  {
   "cell_type": "code",
   "execution_count": 9,
   "id": "50da07b8",
   "metadata": {},
   "outputs": [
    {
     "name": "stdout",
     "output_type": "stream",
     "text": [
      "['__add__', '__class__', '__contains__', '__delattr__', '__delitem__', '__dir__', '__doc__', '__eq__', '__format__', '__ge__', '__getattribute__', '__getitem__', '__gt__', '__hash__', '__iadd__', '__imul__', '__init__', '__init_subclass__', '__iter__', '__le__', '__len__', '__lt__', '__mul__', '__ne__', '__new__', '__reduce__', '__reduce_ex__', '__repr__', '__reversed__', '__rmul__', '__setattr__', '__setitem__', '__sizeof__', '__str__', '__subclasshook__', 'append', 'clear', 'copy', 'count', 'extend', 'index', 'insert', 'pop', 'remove', 'reverse', 'sort']\n"
     ]
    }
   ],
   "source": [
    "print(dir(list1))"
   ]
  },
  {
   "cell_type": "code",
   "execution_count": 23,
   "id": "91734065",
   "metadata": {},
   "outputs": [],
   "source": [
    "d = {1: 'hello', 2: 'coders'}"
   ]
  },
  {
   "cell_type": "code",
   "execution_count": 24,
   "id": "ff6938c2",
   "metadata": {},
   "outputs": [
    {
     "name": "stdout",
     "output_type": "stream",
     "text": [
      "['__class__', '__contains__', '__delattr__', '__delitem__', '__dir__', '__doc__', '__eq__', '__format__', '__ge__', '__getattribute__', '__getitem__', '__gt__', '__hash__', '__init__', '__init_subclass__', '__iter__', '__le__', '__len__', '__lt__', '__ne__', '__new__', '__reduce__', '__reduce_ex__', '__repr__', '__reversed__', '__setattr__', '__setitem__', '__sizeof__', '__str__', '__subclasshook__', 'clear', 'copy', 'fromkeys', 'get', 'items', 'keys', 'pop', 'popitem', 'setdefault', 'update', 'values']\n"
     ]
    }
   ],
   "source": [
    "print(dir(d))"
   ]
  },
  {
   "cell_type": "code",
   "execution_count": 27,
   "id": "eb6130b0",
   "metadata": {},
   "outputs": [
    {
     "data": {
      "text/plain": [
       "{1: 'hello', 2: 'coders'}"
      ]
     },
     "execution_count": 27,
     "metadata": {},
     "output_type": "execute_result"
    }
   ],
   "source": [
    "d1 = d.copy()\n",
    "d1"
   ]
  },
  {
   "cell_type": "code",
   "execution_count": 1,
   "id": "f4533344",
   "metadata": {},
   "outputs": [
    {
     "name": "stdout",
     "output_type": "stream",
     "text": [
      "0\n",
      "1\n",
      "2\n",
      "3\n"
     ]
    }
   ],
   "source": [
    "n = 4\n",
    "for i in range(0, n):\n",
    "    print(i)"
   ]
  },
  {
   "cell_type": "code",
   "execution_count": 3,
   "id": "2dd8bc2a",
   "metadata": {},
   "outputs": [
    {
     "name": "stdout",
     "output_type": "stream",
     "text": [
      "Hello\n",
      "for\n",
      "class\n",
      "\n",
      "Tuple Iteration\n",
      "Hello\n",
      "for\n",
      "class\n",
      "\n",
      "String Iteration\n",
      "M\n",
      "a\n",
      "n\n",
      "g\n",
      "o\n",
      " \n",
      "i\n",
      "s\n",
      " \n",
      "A\n",
      "\n",
      "Dictionary Iteration\n",
      "{'xyz': 123, 'abc': 345}\n",
      "xyz 123\n",
      "abc 345\n"
     ]
    }
   ],
   "source": [
    "l = [\"Hello\", \"for\", \"class\"]\n",
    "for i in l:\n",
    "    print(i)\n",
    "\n",
    "# Iterating over a tuple (immutable)\n",
    "print(\"\\nTuple Iteration\")\n",
    "t = (\"Hello\", \"for\", \"class\")\n",
    "for i in t:\n",
    "    print(i)\n",
    "\n",
    "# Iterating over a String\n",
    "print(\"\\nString Iteration\")\n",
    "s = \"Mango is A\"\n",
    "for i in s :\n",
    "    print(i)\n",
    "\n",
    "# Iterating over dictionary\n",
    "print(\"\\nDictionary Iteration\")\n",
    "d = dict()\n",
    "d['xyz'] = 123\n",
    "d['abc'] = 345\n",
    "print(d)\n",
    "for key in d:\n",
    "    print(key, d[key])"
   ]
  },
  {
   "cell_type": "code",
   "execution_count": 5,
   "id": "94f22a24",
   "metadata": {},
   "outputs": [
    {
     "name": "stdout",
     "output_type": "stream",
     "text": [
      "5\n",
      "6\n",
      "7\n",
      "8\n",
      "9\n",
      "[5, 6, 7, 8, 9]\n"
     ]
    }
   ],
   "source": [
    "list1=[]\n",
    "for i in range(5):\n",
    "    e=int(input())\n",
    "    list1.append(e)\n",
    "    \n",
    "print(list1)"
   ]
  },
  {
   "cell_type": "code",
   "execution_count": 6,
   "id": "7d4479a6",
   "metadata": {},
   "outputs": [],
   "source": [
    "list1.extend([60,70,80])"
   ]
  },
  {
   "cell_type": "code",
   "execution_count": 7,
   "id": "364fc8fa",
   "metadata": {},
   "outputs": [
    {
     "name": "stdout",
     "output_type": "stream",
     "text": [
      "[5, 6, 7, 8, 9, 60, 70, 80]\n"
     ]
    }
   ],
   "source": [
    "print(list1)"
   ]
  },
  {
   "cell_type": "markdown",
   "id": "dca880b2",
   "metadata": {},
   "source": [
    "# ps - 3"
   ]
  },
  {
   "cell_type": "code",
   "execution_count": 9,
   "id": "bd17412e",
   "metadata": {},
   "outputs": [
    {
     "name": "stdout",
     "output_type": "stream",
     "text": [
      "3\n",
      "ksjdhd\n",
      "djdk\n",
      "djd\n"
     ]
    },
    {
     "data": {
      "text/plain": [
       "6"
      ]
     },
     "execution_count": 9,
     "metadata": {},
     "output_type": "execute_result"
    }
   ],
   "source": [
    "#1.Write a Python function that takes a list of words and return the longest word and the length of the longest one.\n",
    "def fun1(list1,n):\n",
    "    s=''\n",
    "    lenMax=0\n",
    "    for j in l:\n",
    "        len1=len(j)\n",
    "        if(len1>lenMax):\n",
    "            lenMax=len1\n",
    "            s=j\n",
    "            \n",
    "    return (lenMax)\n",
    "\n",
    "\n",
    "n = int(input())\n",
    "l = []\n",
    "s=''\n",
    "for i in range(n):\n",
    "    e=input()\n",
    "    l.append(e)\n",
    "    \n",
    "fun1(l,n)\n",
    "\n",
    "# lenMax=0\n",
    "# for j in l:\n",
    "#     len1=len(j)\n",
    "#     if(len1>lenMax):\n",
    "#         lenMax=len1\n",
    "#         s=j\n",
    "# print(lenMax)\n",
    "# print(s)"
   ]
  },
  {
   "cell_type": "code",
   "execution_count": null,
   "id": "8c1fd623",
   "metadata": {},
   "outputs": [],
   "source": [
    "#Write a Python program to change a given string to a new string where the first and last chars have been exchanged.\n",
    "str1 = input()\n",
    "len1=len(str1)\n",
    "print(str1)\n",
    "str2 = \"\"\n",
    "print(str1[-1])                   #o\n",
    "print(str1[1:(len1-1)])           #ell\n",
    "print(str1[0])                    #h\n",
    "str2 = str1[-1] + str1[1:(len1-1)] + str1[0]\n",
    "print(str2)"
   ]
  },
  {
   "cell_type": "code",
   "execution_count": 21,
   "id": "02f7796e",
   "metadata": {},
   "outputs": [
    {
     "name": "stdout",
     "output_type": "stream",
     "text": [
      "hello gammer\n",
      "remmag olleh\n"
     ]
    }
   ],
   "source": [
    "#Write a Python function to reverse a string if it's length is a multiple of 2 and 6.\n",
    "def fun1(str1, n):\n",
    "    if n%2==0 and n%6==0:\n",
    "        return str1[::-1]\n",
    "    \n",
    "str1=input()\n",
    "print(fun1(str1, len(str1)))"
   ]
  },
  {
   "cell_type": "code",
   "execution_count": 11,
   "id": "e23c6d9e",
   "metadata": {},
   "outputs": [
    {
     "name": "stdout",
     "output_type": "stream",
     "text": [
      "ghhhaaaaa\n",
      "['h', 'a']\n",
      "2\n"
     ]
    }
   ],
   "source": [
    "#Write a python program to count repeated characters in a string.\n",
    "str1=input()\n",
    "c=0\n",
    "l=[]\n",
    "for i in str1:\n",
    "    if str1.count(i) > 1:\n",
    "        if i not in l:\n",
    "            c=c+1\n",
    "            l.append(i)\n",
    "            \n",
    "print(l)\n",
    "print(len(l))"
   ]
  },
  {
   "cell_type": "code",
   "execution_count": 27,
   "id": "cb571bf8",
   "metadata": {},
   "outputs": [
    {
     "name": "stdout",
     "output_type": "stream",
     "text": [
      "2\n",
      "4\n",
      "6\n",
      "8\n",
      "9\n",
      "29\n"
     ]
    }
   ],
   "source": [
    "#Write a Python program to find common items from two lists.\n",
    "l1 = [1,2,3,4,5,6,7,8,9,29]\n",
    "l2 = [2,4,6,8,10,9,29]\n",
    "\n",
    "for i in l1:\n",
    "    if i in l2:\n",
    "        print(i)"
   ]
  },
  {
   "cell_type": "code",
   "execution_count": 33,
   "id": "dd25d67e",
   "metadata": {},
   "outputs": [
    {
     "name": "stdout",
     "output_type": "stream",
     "text": [
      "2645781004803456\n"
     ]
    }
   ],
   "source": [
    "# Write a Python program to convert a list of multiple integers into a single integer.\n",
    "l = [26, 45,78,100,480,3456]\n",
    "s =\"\"\n",
    "for i in l:\n",
    "    s = s + str(i)\n",
    "    \n",
    "print(int(s))"
   ]
  },
  {
   "cell_type": "code",
   "execution_count": 29,
   "id": "d0b9ba3c",
   "metadata": {},
   "outputs": [
    {
     "name": "stdout",
     "output_type": "stream",
     "text": [
      "{100: 'Rahul', 200: 'Rakesh', 300: 'Rajan', 800: 'Mumbai', 900: 'Raipur'}\n"
     ]
    }
   ],
   "source": [
    "#Write a Python script to merge two Python dictionaries.\n",
    "d1 = {100: \"Rahul\", 200: \"Rakesh\", 300:\"Rajan\"}\n",
    "d2 = {800: \"Mumbai\", 900: \"Raipur\"}\n",
    "d = d1.copy()\n",
    "d.update(d2)\n",
    "print(d)"
   ]
  },
  {
   "cell_type": "code",
   "execution_count": 32,
   "id": "2e9da407",
   "metadata": {},
   "outputs": [
    {
     "name": "stdout",
     "output_type": "stream",
     "text": [
      "Addition is 605 And the Multiply is 3780000000\n"
     ]
    }
   ],
   "source": [
    "#Write a Python program to sum & multiply all the items in a dictionary.\n",
    "d = {1:100, 2:350, 3:30, 4:45, 5:80}\n",
    "sum1=0\n",
    "mul1=1\n",
    "for x in d:\n",
    "    sum1 = sum1 + d[x]\n",
    "    mul1 = mul1*d[x]\n",
    "    \n",
    "print(\"Addition is\",sum1,\"And the Multiply is\", mul1)"
   ]
  }
 ],
 "metadata": {
  "kernelspec": {
   "display_name": "Python 3",
   "language": "python",
   "name": "python3"
  },
  "language_info": {
   "codemirror_mode": {
    "name": "ipython",
    "version": 3
   },
   "file_extension": ".py",
   "mimetype": "text/x-python",
   "name": "python",
   "nbconvert_exporter": "python",
   "pygments_lexer": "ipython3",
   "version": "3.8.3"
  }
 },
 "nbformat": 4,
 "nbformat_minor": 5
}
